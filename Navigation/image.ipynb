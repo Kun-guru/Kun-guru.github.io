{
 "cells": [
  {
   "cell_type": "code",
   "execution_count": 2,
   "metadata": {},
   "outputs": [
    {
     "name": "stdout",
     "output_type": "stream",
     "text": [
      "Base64 images saved and markdown file updated successfully in ..\n"
     ]
    }
   ],
   "source": [
    "import os\n",
    "import re\n",
    "import base64\n",
    "\n",
    "def save_base64_image(base64_string, dest_folder, image_format='png'):\n",
    "    if not os.path.exists(dest_folder):\n",
    "        os.makedirs(dest_folder)\n",
    "\n",
    "    # Create a unique image name\n",
    "    existing_images = [f for f in os.listdir(dest_folder) if f.startswith('image_') and f.endswith(f'.{image_format}')]\n",
    "    image_number = len(existing_images) + 1\n",
    "    image_name = f'image_{image_number}.{image_format}'\n",
    "    image_path = os.path.join(dest_folder, image_name)\n",
    "\n",
    "    # Decode the base64 string and save the image\n",
    "    with open(image_path, 'wb') as file:\n",
    "        file.write(base64.b64decode(base64_string))\n",
    "    return image_name\n",
    "\n",
    "def update_markdown_base64_images(markdown_file_path):\n",
    "    with open(markdown_file_path, 'r') as file:\n",
    "        content = file.read()\n",
    "\n",
    "    # Regular expression to find base64-encoded images in the markdown file\n",
    "    base64_image_pattern = re.compile(r'!\\[.*?\\]\\(data:image/(.*?);base64,(.*?)\\)')\n",
    "    base64_images = base64_image_pattern.findall(content)\n",
    "\n",
    "    if not base64_images:\n",
    "        print(\"No base64-encoded images found in the markdown file.\")\n",
    "        return\n",
    "\n",
    "    # Directory where the markdown file is located\n",
    "    markdown_dir = os.path.dirname(markdown_file_path)\n",
    "\n",
    "    # Save images and update the markdown content\n",
    "    for image_format, base64_string in base64_images:\n",
    "        image_name = save_base64_image(base64_string, markdown_dir, image_format)\n",
    "        base64_image_tag = f'data:image/{image_format};base64,{base64_string}'\n",
    "        content = content.replace(f'data:image/{image_format};base64,{base64_string}', image_name)\n",
    "\n",
    "    # Save the updated content back to the markdown file\n",
    "    with open(markdown_file_path, 'w') as file:\n",
    "        file.write(content)\n",
    "\n",
    "    print(f\"Base64 images saved and markdown file updated successfully in {markdown_dir}.\")\n",
    "\n",
    "if __name__ == \"__main__\":\n",
    "    markdown_file_path = './print.md'  # Update with the path to your markdown file\n",
    "    update_markdown_base64_images(markdown_file_path)\n"
   ]
  },
  {
   "cell_type": "code",
   "execution_count": null,
   "metadata": {},
   "outputs": [],
   "source": []
  }
 ],
 "metadata": {
  "kernelspec": {
   "display_name": "Python 3",
   "language": "python",
   "name": "python3"
  },
  "language_info": {
   "codemirror_mode": {
    "name": "ipython",
    "version": 3
   },
   "file_extension": ".py",
   "mimetype": "text/x-python",
   "name": "python",
   "nbconvert_exporter": "python",
   "pygments_lexer": "ipython3",
   "version": "3.12.1"
  }
 },
 "nbformat": 4,
 "nbformat_minor": 2
}
