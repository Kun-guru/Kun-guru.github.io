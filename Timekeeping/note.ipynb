{
 "cells": [
  {
   "cell_type": "code",
   "execution_count": 2,
   "metadata": {},
   "outputs": [
    {
     "name": "stdout",
     "output_type": "stream",
     "text": [
      "Notes converted and markdown file updated successfully: d:\\Stuff\\Work\\Canrold\\Gomocha\\CMS Documents\\GitHub\\IWMS\\docs\\Timekeeping\\timekeeping.md\n"
     ]
    }
   ],
   "source": [
    "import re\n",
    "import os\n",
    "\n",
    "def convert_notes_to_html(markdown_file_path):\n",
    "    with open(markdown_file_path, 'r', encoding='utf-8') as file:\n",
    "        content = file.read()\n",
    "\n",
    "    # Regex pattern to match **Note: ...**\n",
    "    note_pattern = re.compile(r'\\*\\*Note: (.*?)\\*\\*', re.DOTALL)\n",
    "\n",
    "    # Replacement pattern to convert to HTML note\n",
    "    def replace_note_with_html(match):\n",
    "        note_content = match.group(1).strip()\n",
    "        return f'<div class=\"note\">\\n    <strong>Note: </strong> {note_content}\\n</div>'\n",
    "\n",
    "    updated_content = re.sub(note_pattern, replace_note_with_html, content)\n",
    "\n",
    "    with open(markdown_file_path, 'w', encoding='utf-8') as file:\n",
    "        file.write(updated_content)\n",
    "\n",
    "    print(f\"Notes converted and markdown file updated successfully: {markdown_file_path}\")\n",
    "\n",
    "if __name__ == \"__main__\":\n",
    "    # Assume the markdown file is in the same folder as this script\n",
    "    current_directory = os.getcwd()  # Get the current working directory\n",
    "    markdown_file_name = 'timekeeping.md'  # Update with your markdown file name\n",
    "    markdown_file_path = os.path.join(current_directory, markdown_file_name)\n",
    "    convert_notes_to_html(markdown_file_path)\n"
   ]
  },
  {
   "cell_type": "code",
   "execution_count": null,
   "metadata": {},
   "outputs": [],
   "source": []
  }
 ],
 "metadata": {
  "kernelspec": {
   "display_name": "Python 3",
   "language": "python",
   "name": "python3"
  },
  "language_info": {
   "codemirror_mode": {
    "name": "ipython",
    "version": 3
   },
   "file_extension": ".py",
   "mimetype": "text/x-python",
   "name": "python",
   "nbconvert_exporter": "python",
   "pygments_lexer": "ipython3",
   "version": "3.12.1"
  }
 },
 "nbformat": 4,
 "nbformat_minor": 2
}
